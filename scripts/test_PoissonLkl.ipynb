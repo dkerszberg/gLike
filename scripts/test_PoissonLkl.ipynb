{
 "cells": [
  {
   "cell_type": "markdown",
   "metadata": {},
   "source": [
    "# PoissonLkl tutorial\n",
    "\n",
    "This notebook illustrates how to call `gLike` objects from python (note you have to configure your `ROOT` to work with python at first).\n",
    "\n",
    "This notebook replicates the tutorial in `gLike/scripts/testPoissonLkl.C`.    "
   ]
  },
  {
   "cell_type": "markdown",
   "metadata": {},
   "source": [
    "## Lkl object definition and minimisation"
   ]
  },
  {
   "cell_type": "code",
   "execution_count": 1,
   "metadata": {},
   "outputs": [
    {
     "name": "stdout",
     "output_type": "stream",
     "text": [
      "Welcome to JupyROOT 6.14/04\n"
     ]
    },
    {
     "data": {
      "text/plain": [
       "0"
      ]
     },
     "execution_count": 1,
     "metadata": {},
     "output_type": "execute_result"
    }
   ],
   "source": [
    "# load gLike classes in ROOT, output should be 0 for succesful loading\n",
    "from ROOT import gInterpreter, gSystem\n",
    "gInterpreter.ProcessLine('#include \"../include/PoissonLkl.h\"')\n",
    "gSystem.Load(\"../lib/libgLike.so\")"
   ]
  },
  {
   "cell_type": "code",
   "execution_count": 2,
   "metadata": {},
   "outputs": [],
   "source": [
    "# now PoissonLkl can be imported from ROOT\n",
    "from ROOT import PoissonLkl"
   ]
  },
  {
   "cell_type": "code",
   "execution_count": 3,
   "metadata": {},
   "outputs": [],
   "source": [
    "# create and configure the simplest possible PoissonLkl object\n",
    "n_on = 130\n",
    "n_off = 90\n",
    "tau = 1.\n",
    "p = PoissonLkl(n_on, n_off, tau)"
   ]
  },
  {
   "cell_type": "code",
   "execution_count": 4,
   "metadata": {},
   "outputs": [],
   "source": [
    "# configure the minimization algorithm\n",
    "error_def = 4\n",
    "units_of_g = 2\n",
    "p.SetErrorDef(error_def)\n",
    "p.SetUnitsOfG(units_of_g)"
   ]
  },
  {
   "cell_type": "code",
   "execution_count": 5,
   "metadata": {},
   "outputs": [
    {
     "data": {
      "text/plain": [
       "13.046429376496576"
      ]
     },
     "execution_count": 5,
     "metadata": {},
     "output_type": "execute_result"
    },
    {
     "name": "stdout",
     "output_type": "stream",
     "text": [
      "Lkl::ComputeLklVsG (PoissonLkl) Message: Finding minimum of -2logL... \n",
      "Lkl::MinimizeLkl (PoissonLkl) Message: minimizing -2logL\n",
      "Lkl::CallMinimization (PoissonLkl) Results: Trial #1, g: 4.00e+01 +/- 2.97e+01 (8.00e+01 +/- 5.93e+01); b: 9.00e+01 +/- 1.90e+01; tau: 1.00e+00 +/- 0.00e+00; eff: 1.00e+00 +/- 0.00e+00; -2logL = 13.0462; iflag = 0 (converged)\n",
      "Lkl::ComputeLklVsG (PoissonLkl) Message: computing -2logL in 200 points between g=-1.93973(-3.87946), and g=81.9447(163.889), this could take a while\n",
      ".................... Completed 200 points\n",
      "Lkl::ComputeLklVsG (PoissonLkl) Message: g_min = 39.7917 +/- 30.242 (79.5834 +/- 60.4839), -2logLmin = 13.0464\n"
     ]
    }
   ],
   "source": [
    "# profile the likelihood \n",
    "p.ComputeLklVsG()"
   ]
  },
  {
   "cell_type": "code",
   "execution_count": 6,
   "metadata": {},
   "outputs": [
    {
     "name": "stdout",
     "output_type": "stream",
     "text": [
      "Overview:\n",
      " *  Name              = PoissonLkl\n",
      " *  Status            = 0 (converged)\n",
      " *  Delta(2logL)      = 4\n",
      " *  # of parameters   = 4 (2 free):\n",
      " *                  g = 39.7917 +/- 30.242 (79.5834 +/- 60.4839)\n",
      " *                  b = 90.0852 +/- 0.0948683\n",
      " *                tau = 1 (fixed)\n",
      " *                eff = 1 (fixed)\n",
      " *  Units of G        = 2\n",
      " *  -2logL_min        = 13.0464\n"
     ]
    }
   ],
   "source": [
    "# print fit results\n",
    "print(\"Overview:\")\n",
    "p.PrintOverview()"
   ]
  },
  {
   "cell_type": "code",
   "execution_count": 7,
   "metadata": {},
   "outputs": [],
   "source": [
    "# access the gLike results\n",
    "g_min = p.GetGLklMin()                   # get the value of g that minimizes -2logL\n",
    "g_err = p.GetGLklMinErr()                # get the value of gerr such that -2logL(gmin+/-gerr)=-2logLmin+fErrorDef"
   ]
  },
  {
   "cell_type": "markdown",
   "metadata": {},
   "source": [
    "### plot results (w/ ROOT and matplotlib)"
   ]
  },
  {
   "cell_type": "code",
   "execution_count": 8,
   "metadata": {
    "scrolled": false
   },
   "outputs": [
    {
     "data": {
      "image/png": "[encoded data removed]",
      "text/plain": [
       "<IPython.core.display.Image object>"
      ]
     },
     "metadata": {},
     "output_type": "display_data"
    }
   ],
   "source": [
    "# plot the profiled likelihood with ROOT\n",
    "from ROOT import TCanvas\n",
    "c = TCanvas(\"canvas\", \"canvas\", 400, 300)\n",
    "lkl_vs_g = p.GetLklVsG() # TGraph holding the profile\n",
    "lkl_vs_g.SetTitle(\"\")\n",
    "lkl_vs_g.GetXaxis().SetTitle(\"g\")\n",
    "lkl_vs_g.GetYaxis().SetTitle(\"-2 log L\")\n",
    "lkl_vs_g.Draw()\n",
    "c.Draw() # in pyroot also the canvas has to be drawn"
   ]
  },
  {
   "cell_type": "code",
   "execution_count": 9,
   "metadata": {},
   "outputs": [],
   "source": [
    "# we can also use matplotlib to plot the likelihood profile\n",
    "import numpy as np\n",
    "import matplotlib.pyplot as plt"
   ]
  },
  {
   "cell_type": "code",
   "execution_count": 10,
   "metadata": {},
   "outputs": [],
   "source": [
    "from ROOT import Double\n",
    "def get_TGraph_xy(rootTGraph):\n",
    "    \"\"\"small function to get TGraph x and y points.\n",
    "    TGraph.GetX() (or GetY()) returns a C++ array, a pointer, i.e. a memory location unreadable by python.\n",
    "    \"\"\"\n",
    "    x = []\n",
    "    y = []\n",
    "    n = rootTGraph.GetN()\n",
    "    for i in range(n):\n",
    "        xx = Double(0) # needed to be passed by reference to TGraph's GetPoint()\n",
    "        yy = Double(0)\n",
    "        rootTGraph.GetPoint(i, xx, yy)\n",
    "        x.append(xx)\n",
    "        y.append(yy)\n",
    "    return np.asarray(x), np.asarray(y)"
   ]
  },
  {
   "cell_type": "code",
   "execution_count": 11,
   "metadata": {},
   "outputs": [],
   "source": [
    "g_vals, lkl_vals = get_TGraph_xy(lkl_vs_g)"
   ]
  },
  {
   "cell_type": "code",
   "execution_count": 12,
   "metadata": {},
   "outputs": [
    {
     "data": {
      "image/png": "[encoded data removed]",
      "text/plain": [
       "<Figure size 432x288 with 1 Axes>"
      ]
     },
     "metadata": {
      "needs_background": "light"
     },
     "output_type": "display_data"
    }
   ],
   "source": [
    "plt.plot(g_vals, lkl_vals, lw=2)\n",
    "plt.xlabel(\"g\", fontsize=12)\n",
    "plt.ylabel(\"-2 log L\", fontsize=12)\n",
    "# plot minimised value with a star\n",
    "plt.plot(g_min, np.min(lkl_vals), ls=\"\", marker=\"*\", markersize=13)\n",
    "# plot the errors \n",
    "plt.axvline(g_min - g_err, ls=\"--\", color=\"dimgray\")\n",
    "plt.axvline(g_min + g_err, ls=\"--\", color=\"dimgray\")\n",
    "plt.axhline(error_def, ls=\"--\", color=\"dimgray\")\n",
    "plt.show()"
   ]
  },
  {
   "cell_type": "markdown",
   "metadata": {},
   "source": [
    "### Confront gLike results with other methods\n",
    "Let us confront `gLike` significance with the one returned by the Li and Ma formula, and minimum and errors by those computed with the Rolke method."
   ]
  },
  {
   "cell_type": "code",
   "execution_count": 13,
   "metadata": {},
   "outputs": [],
   "source": [
    "# glike significance\n",
    "glike_sig = np.sqrt(lkl_vs_g.Eval(0))\n",
    "# LiMa significance (gammapy)\n",
    "from gammapy.stats import significance_on_off\n",
    "lima_sig = significance_on_off(n_on, n_off, tau)"
   ]
  },
  {
   "cell_type": "code",
   "execution_count": 14,
   "metadata": {},
   "outputs": [],
   "source": [
    "# Rolke method\n",
    "from ROOT import TRolke\n",
    "rolke = TRolke(0.9544)\n",
    "# remember when passing by reference, define first the variable as ROOT.Double\n",
    "rolke_g_low = Double(0)\n",
    "rolke_g_up = Double(0)\n",
    "rolke.SetPoissonBkgKnownEff(n_on, n_off, tau, 1)\n",
    "rolke.GetLimits(rolke_g_low, rolke_g_up)\n",
    "rolke_g_min = units_of_g * (rolke_g_low + rolke_g_up) / 2\n",
    "rolke_g_err = units_of_g * (rolke_g_up - rolke_g_low) / 2"
   ]
  },
  {
   "cell_type": "code",
   "execution_count": 15,
   "metadata": {},
   "outputs": [
    {
     "name": "stdout",
     "output_type": "stream",
     "text": [
      "gLike significance = 2.70\n",
      "Li & Ma significance = 2.70\n",
      "\n",
      "\n",
      "gLike minimum, g = 79.58 +\\- 60.48\n",
      "Rolke minimum, g = 80.48 +\\- 59.56\n",
      "error defined at 2.0 sigmas\n"
     ]
    }
   ],
   "source": [
    "# print and compare results\n",
    "print(f\"gLike significance = {glike_sig:.2f}\")\n",
    "print(f\"Li & Ma significance = {lima_sig:.2f}\")\n",
    "print(\"\\n\")\n",
    "print(f\"gLike minimum, g = {g_min:.2f} +\\- {g_err:.2f}\")\n",
    "print(f\"Rolke minimum, g = {rolke_g_min:.2f} +\\- {rolke_g_err:.2f}\")\n",
    "print(f\"error defined at {np.sqrt(error_def)} sigmas\")"
   ]
  },
  {
   "cell_type": "markdown",
   "metadata": {},
   "source": [
    "### set uncertainties on detection efficiency and ON/OFF exposure ratio\n",
    "Let us modify the likelihood assuming that the detection efficiency and the exposure ratio have their own distributions with mean 0 and sigma 0.1, let us modify and re-run the likelihood estimation"
   ]
  },
  {
   "cell_type": "code",
   "execution_count": 16,
   "metadata": {},
   "outputs": [
    {
     "data": {
      "text/plain": [
       "7.511854293821425"
      ]
     },
     "execution_count": 16,
     "metadata": {},
     "output_type": "execute_result"
    },
    {
     "name": "stdout",
     "output_type": "stream",
     "text": [
      "Lkl::ComputeLklVsG (PoissonLkl) Message: Finding minimum of -2logL... \n",
      "Lkl::MinimizeLkl (PoissonLkl) Message: minimizing -2logL\n",
      "Lkl::CallMinimization (PoissonLkl) Results: Trial #1, g: 4.00e+01 +/- 3.56e+01 (8.00e+01 +/- 7.12e+01); b: 9.00e+01 +/- 2.61e+01; tau: 1.00e+00 +/- 2.00e-01; eff: 1.00e+00 +/- 2.00e-01; -2logL = 7.51165; iflag = 0 (converged)\n",
      "Lkl::ComputeLklVsG (PoissonLkl) Message: computing -2logL in 200 points between g=-10.3497(-20.6993), and g=90.3508(180.702), this could take a while\n",
      ".................... Completed 200 points\n",
      "Lkl::ComputeLklVsG (PoissonLkl) Message: g_min = 39.7475 +/- 37.1452 (79.4951 +/- 74.2905), -2logLmin = 7.51185\n"
     ]
    }
   ],
   "source": [
    "sigma_eff  = 0.1\n",
    "sigma_tau  = 0.1\n",
    "\n",
    "p.SetDEff(sigma_eff)\n",
    "p.SetDTau(sigma_tau)\n",
    "p.ComputeLklVsG()"
   ]
  },
  {
   "cell_type": "code",
   "execution_count": 17,
   "metadata": {},
   "outputs": [
    {
     "name": "stdout",
     "output_type": "stream",
     "text": [
      " *  Name              = PoissonLkl\n",
      " *  Status            = 0 (converged)\n",
      " *  Delta(2logL)      = 4\n",
      " *  # of parameters   = 4 (4 free):\n",
      " *                  g = 39.7475 +/- 37.1452 (79.4951 +/- 74.2905)\n",
      " *                  b = 90.1232 +/- 0.0948683\n",
      " *                tau = 0.999306 +/- 0.01\n",
      " *                eff = 1.00056 +/- 0.01\n",
      " *  Units of G        = 2\n",
      " *  -2logL_min        = 7.51185\n"
     ]
    }
   ],
   "source": [
    "p.PrintOverview()"
   ]
  },
  {
   "cell_type": "code",
   "execution_count": 18,
   "metadata": {},
   "outputs": [
    {
     "data": {
      "image/png": "[encoded data removed]",
      "text/plain": [
       "<Figure size 432x288 with 1 Axes>"
      ]
     },
     "metadata": {
      "needs_background": "light"
     },
     "output_type": "display_data"
    }
   ],
   "source": [
    "# fetch the value from the modified likelihood and plot them\n",
    "lkl_vs_g_unc = p.GetLklVsG()\n",
    "g_vals_unc, lkl_vals_unc = get_TGraph_xy(lkl_vs_g_unc)\n",
    "\n",
    "plt.plot(g_vals, lkl_vals, lw=2, label=\"Poisson Like.\")\n",
    "plt.plot(g_vals_unc, lkl_vals_unc, lw=2, label=\"Poisson Like. + \" + r\"$(\\epsilon,\\,\\tau)$\" + \" uncert.\")\n",
    "plt.legend(fontsize=12)\n",
    "plt.xlabel(\"g\", fontsize=12)\n",
    "plt.ylabel(\"-2 log L\", fontsize=12)\n",
    "plt.show()"
   ]
  }
 ],
 "metadata": {
  "kernelspec": {
   "display_name": "Python 3",
   "language": "python",
   "name": "python3"
  },
  "language_info": {
   "codemirror_mode": {
    "name": "ipython",
    "version": 3
   },
   "file_extension": ".py",
   "mimetype": "text/x-python",
   "name": "python",
   "nbconvert_exporter": "python",
   "pygments_lexer": "ipython3",
   "version": "3.7.4"
  }
 },
 "nbformat": 4,
 "nbformat_minor": 2
}
