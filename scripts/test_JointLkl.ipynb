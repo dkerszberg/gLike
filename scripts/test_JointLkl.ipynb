{
 "cells": [
  {
   "cell_type": "markdown",
   "metadata": {},
   "source": [
    "# JointLkl tutorial\n",
    "\n",
    "This notebook illustrates how to call `gLike` objects from python (note you have to configure your `ROOT` to work with python at first).\n",
    "\n",
    "This notebook replicates the tutorial in `gLike/scripts/testJointLkl.C`."
   ]
  },
  {
   "cell_type": "code",
   "execution_count": 1,
   "metadata": {},
   "outputs": [
    {
     "name": "stdout",
     "output_type": "stream",
     "text": [
      "Welcome to JupyROOT 6.14/04\n"
     ]
    },
    {
     "data": {
      "text/plain": [
       "0"
      ]
     },
     "execution_count": 1,
     "metadata": {},
     "output_type": "execute_result"
    }
   ],
   "source": [
    "# load gLike classes in ROOT, output should be 0 for succesful loading\n",
    "from ROOT import gInterpreter, gSystem\n",
    "gInterpreter.ProcessLine('#include \"../include/PoissonLkl.h\"')\n",
    "gSystem.Load(\"../lib/libgLike.so\")"
   ]
  },
  {
   "cell_type": "code",
   "execution_count": 2,
   "metadata": {},
   "outputs": [],
   "source": [
    "# now PoissonLkl and JointLkl can be imported from ROOT\n",
    "from ROOT import PoissonLkl, JointLkl"
   ]
  },
  {
   "cell_type": "markdown",
   "metadata": {},
   "source": [
    "## Definition of a JointLkl object\n",
    "Let us define a list of two on and off counts, to each pair of on / off we will associate a PoissonLkl object"
   ]
  },
  {
   "cell_type": "code",
   "execution_count": 3,
   "metadata": {},
   "outputs": [],
   "source": [
    "n_on = [130, 90]\n",
    "n_off = [105, 120]"
   ]
  },
  {
   "cell_type": "markdown",
   "metadata": {},
   "source": [
    "create the JointLkl object that will contain them, initialise it with two PoissonLkl"
   ]
  },
  {
   "cell_type": "code",
   "execution_count": 4,
   "metadata": {},
   "outputs": [],
   "source": [
    "error_def = 4\n",
    "j = JointLkl()\n",
    "j.SetErrorDef(error_def)"
   ]
  },
  {
   "cell_type": "markdown",
   "metadata": {},
   "source": [
    "loop through the on and off count list, define PoissonLkl objects and add them to the JointLkl"
   ]
  },
  {
   "cell_type": "code",
   "execution_count": 5,
   "metadata": {},
   "outputs": [],
   "source": [
    "p_list = [] # list of PoissonLkl objects building JointLkl\n",
    "for index, (on, off) in enumerate(zip(n_on, n_off)):\n",
    "    p = PoissonLkl(on, off)\n",
    "    p.SetName(f\"PoissonLkl_{index}\")\n",
    "    p_list.append(p)\n",
    "    j.AddSample(p)"
   ]
  },
  {
   "cell_type": "code",
   "execution_count": 6,
   "metadata": {},
   "outputs": [
    {
     "name": "stdout",
     "output_type": "stream",
     "text": [
      " *              Object Name : JointLkl\n",
      " *             # of samples = 2\n",
      " ****************************************\n",
      "                                        *              Object Name : PoissonLkl_0\n",
      "                                        *                     Non  = 130\n",
      "                                        *                     Noff = 105\n",
      "                                        *            Measured tau  = 1 +/- 0\n",
      "                                        *            Measured Deff = 1 +/- 0\n",
      "                                        *     Fraction of G in Off = 0\n",
      "                                        *  Foreground events in On = 0\n",
      "                                        *    Background in On (b) is NUISANCE\n",
      "                                        ****************************************\n",
      "                                        *              Object Name : PoissonLkl_1\n",
      "                                        *                     Non  = 90\n",
      "                                        *                     Noff = 120\n",
      "                                        *            Measured tau  = 1 +/- 0\n",
      "                                        *            Measured Deff = 1 +/- 0\n",
      "                                        *     Fraction of G in Off = 0\n",
      "                                        *  Foreground events in On = 0\n",
      "                                        *    Background in On (b) is NUISANCE\n",
      "                                        ****************************************\n"
     ]
    }
   ],
   "source": [
    "j.PrintData()"
   ]
  },
  {
   "cell_type": "markdown",
   "metadata": {},
   "source": [
    "Call the minimisation and plot the results"
   ]
  },
  {
   "cell_type": "code",
   "execution_count": 7,
   "metadata": {},
   "outputs": [
    {
     "name": "stdout",
     "output_type": "stream",
     "text": [
      "Lkl::ComputeLklVsG (JointLkl) Message: Finding minimum of -2logL... \n",
      "Lkl::MinimizeLkl (JointLkl) Message: minimizing -2logL\n",
      "Lkl::CallMinimization (JointLkl) Results: Trial #1, g: -4.11e+00 +/- 2.12e+01 (-4.11e+00 +/- 2.12e+01); -2logL = 32.9816; iflag = 0 (converged)\n",
      "JointLkl::PrepareForLklScan (JointLkl) Message: call ComputeLklVsG for 2 samples:\n",
      "Lkl::ComputeLklVsG (PoissonLkl_0) Message: computing -2logL in 200 points between g=-34.1191(-34.1191), and g=25.8966(25.8966), this could take a while\n",
      ".................... Completed 200 points\n",
      "Lkl::ComputeLklVsG (PoissonLkl_1) Message: computing -2logL in 200 points between g=-34.1191(-34.1191), and g=25.8966(25.8966), this could take a while\n",
      ".................... Completed 200 points\n",
      "Lkl::ComputeLklVsG (JointLkl) Message: computing -2logL in 200 points between g=-34.1191(-34.1191), and g=25.8966(25.8966), this could take a while\n",
      ".................... Completed 200 points\n",
      "Lkl::ComputeLklVsG (JointLkl) Message: g_min = -3.96041 +/- 21.1248 (-3.96041 +/- 21.1248), -2logLmin = 32.9818\n",
      " *  Name              = JointLkl\n",
      " *  Status            = 0 (converged)\n",
      " *  Delta(2logL)      = 4\n",
      " *  # of parameters   = 1 (1 free):\n",
      " *                  g = -3.96041 +/- 21.1248 (-3.96041 +/- 21.1248)\n",
      " *  Units of G        = 1\n",
      " *  -2logL_min        = 32.9818\n",
      " *  # of samples      = 2\n",
      " ****************************************\n",
      "                                        *  Name              = PoissonLkl_0\n",
      "                                        *  Status            = 0 (converged)\n",
      "                                        *  Delta(2logL)      = 1\n",
      "                                        *  # of parameters   = 4 (1 free):\n",
      "                                        *                  g = -3.96041 (-3.96041) (fixed)\n",
      "                                        *                  b = 119.722 +/- 0.10247\n",
      "                                        *                tau = 1 (fixed)\n",
      "                                        *                eff = 1 (fixed)\n",
      "                                        *  Units of G        = 1\n",
      "                                        *  -2logL_min        = 16.7732\n",
      "                                        ****************************************\n",
      "                                        *  Name              = PoissonLkl_1\n",
      "                                        *  Status            = 0 (converged)\n",
      "                                        *  Delta(2logL)      = 1\n",
      "                                        *  # of parameters   = 4 (1 free):\n",
      "                                        *                  g = -3.96041 (-3.96041) (fixed)\n",
      "                                        *                  b = 106.734 +/- 0.109545\n",
      "                                        *                tau = 1 (fixed)\n",
      "                                        *                eff = 1 (fixed)\n",
      "                                        *  Units of G        = 1\n",
      "                                        *  -2logL_min        = 16.2086\n",
      "                                        ****************************************\n"
     ]
    }
   ],
   "source": [
    "j.ComputeLklVsG()\n",
    "j.PrintOverview()"
   ]
  },
  {
   "cell_type": "code",
   "execution_count": 8,
   "metadata": {},
   "outputs": [
    {
     "data": {
      "image/png": "[encoded data removed]",
      "text/plain": [
       "<IPython.core.display.Image object>"
      ]
     },
     "metadata": {},
     "output_type": "display_data"
    }
   ],
   "source": [
    "# plot the profiled likelihood with ROOT\n",
    "from ROOT import TCanvas, TLegend\n",
    "c = TCanvas(\"canvas\", \"canvas\", 500, 400)\n",
    "legend = TLegend(0.7, 0.7, 0.9, 0.9)\n",
    "legend.SetTextSize(0.03)\n",
    "lkl_vs_g = j.GetLklVsG() # TGraph holding the profile\n",
    "lkl_vs_g.SetTitle(\"\")\n",
    "lkl_vs_g.GetXaxis().SetTitle(\"g\")\n",
    "lkl_vs_g.GetYaxis().SetTitle(\"-2 log L\")\n",
    "lkl_vs_g.SetLineWidth(2)\n",
    "legend.AddEntry(lkl_vs_g, \"JointLkl\")\n",
    "lkl_vs_g.Draw()\n",
    "legend.Draw(\"same\")\n",
    "c.Draw() # in pyroot also the canvas has to be drawn"
   ]
  },
  {
   "cell_type": "markdown",
   "metadata": {},
   "source": [
    "## compare the results of the joint and the individual PoissonLkl"
   ]
  },
  {
   "cell_type": "code",
   "execution_count": 9,
   "metadata": {},
   "outputs": [
    {
     "name": "stdout",
     "output_type": "stream",
     "text": [
      "Lkl::ComputeLklVsG (PoissonLkl_0) Message: Finding minimum of -2logL... \n",
      "Lkl::MinimizeLkl (PoissonLkl_0) Message: minimizing -2logL\n",
      "Lkl::CallMinimization (PoissonLkl_0) Results: Trial #1, g: 2.50e+01 +/- 3.06e+01 (2.50e+01 +/- 3.06e+01); b: 1.05e+02 +/- 2.05e+01; tau: 1.00e+00 +/- 0.00e+00; eff: 1.00e+00 +/- 0.00e+00; -2logL = 13.2001; iflag = 0 (converged)\n",
      "Lkl::ComputeLklVsG (PoissonLkl_0) Message: computing -2logL in 200 points between g=-18.3264(-18.3264), and g=68.3534(68.3534), this could take a while\n",
      ".................... Completed 200 points\n",
      "Lkl::ComputeLklVsG (PoissonLkl_0) Message: g_min = 24.7957 +/- 31.1316 (24.7957 +/- 31.1316), -2logLmin = 13.2003\n",
      " *  Name              = PoissonLkl_0\n",
      " *  Status            = 0 (converged)\n",
      " *  Delta(2logL)      = 4\n",
      " *  # of parameters   = 4 (2 free):\n",
      " *                  g = 24.7957 +/- 31.1316 (24.7957 +/- 31.1316)\n",
      " *                  b = 105.091 +/- 0.10247\n",
      " *                tau = 1 (fixed)\n",
      " *                eff = 1 (fixed)\n",
      " *  Units of G        = 1\n",
      " *  -2logL_min        = 13.2003\n",
      "Lkl::ComputeLklVsG (PoissonLkl_1) Message: Finding minimum of -2logL... \n",
      "Lkl::MinimizeLkl (PoissonLkl_1) Message: minimizing -2logL\n",
      "Lkl::CallMinimization (PoissonLkl_1) Results: Trial #1, g: -3.00e+01 +/- 2.90e+01 (-3.00e+01 +/- 2.90e+01); b: 1.20e+02 +/- 2.19e+01; tau: 1.00e+00 +/- 0.00e+00; eff: 1.00e+00 +/- 0.00e+00; -2logL = 12.9663; iflag = 0 (converged)\n",
      "Lkl::ComputeLklVsG (PoissonLkl_1) Message: computing -2logL in 200 points between g=-70.9223(-70.9223), and g=11(11), this could take a while\n",
      ".................... Completed 200 points\n",
      "Lkl::ComputeLklVsG (PoissonLkl_1) Message: g_min = -30.167 +/- 29.0967 (-30.167 +/- 29.0967), -2logLmin = 12.9664\n",
      " *  Name              = PoissonLkl_1\n",
      " *  Status            = 0 (converged)\n",
      " *  Delta(2logL)      = 4\n",
      " *  # of parameters   = 4 (2 free):\n",
      " *                  g = -30.167 +/- 29.0967 (-30.167 +/- 29.0967)\n",
      " *                  b = 120.095 +/- 0.109545\n",
      " *                tau = 1 (fixed)\n",
      " *                eff = 1 (fixed)\n",
      " *  Units of G        = 1\n",
      " *  -2logL_min        = 12.9664\n"
     ]
    },
    {
     "data": {
      "image/png": "[encoded data removed]",
      "text/plain": [
       "<IPython.core.display.Image object>"
      ]
     },
     "metadata": {},
     "output_type": "display_data"
    }
   ],
   "source": [
    "for index, p in enumerate(p_list):\n",
    "    p.SetErrorDef(error_def)      \n",
    "    p.ComputeLklVsG()\n",
    "    p.PrintOverview()\n",
    "    lkl_vs_g = p.GetLklVsG()\n",
    "    lkl_vs_g.SetLineColor(index + 2)\n",
    "    lkl_vs_g.SetLineWidth(2)\n",
    "    legend.AddEntry(lkl_vs_g, p.GetName())\n",
    "    lkl_vs_g.Draw(\"same\")\n",
    "legend.Draw(\"same\")\n",
    "c.Draw()"
   ]
  },
  {
   "cell_type": "markdown",
   "metadata": {},
   "source": [
    "## Estimating the number of gamma-rays measured by a Cherenkov telescope\n",
    "We assume $g$ is the number of gamma rays measured by some Cherenkov elescope from a given steady source in the On region, during a given known observation time, with known IRF and threshold.    \n",
    "The spectrum of the source is a power law with index -2, reference energy $E_0=100\\,{\\rm GeV}$ and unknown normalization $k$\n",
    "\n",
    "$$\\frac{{\\rm d}\\phi}{{\\rm d} E} = k\\,\\left( \\frac{E}{100\\,{\\rm GeV}} \\right)^{-2} = k\\,\\frac{{\\rm d}f}{{\\rm d}E}$$\n",
    "\n",
    "we want to obtain $k$ with gLike, how do we scale from the number of predicted source counts, $g$, to spectral normalisation $k$? We use the observation time $T_{\\rm obs}$ and the instrument response functions (effective area, $A_{\\rm eff}(E)$, and energy migration $G(E'|E)$)\n",
    "\n",
    "$$ g = T_{\\rm obs}\\,\\int_{E'_{\\rm min}}^{E'_{\\rm max}}\\;{\\rm d}E'\n",
    "\\int\\;{\\rm d}E\\,\\frac{{\\rm d}\\phi}{{\\rm d} E}\\,A_{\\rm eff}(E)\\,G(E'|E) = \n",
    "k\\;T_{\\rm obs}\\,\\int_{E'_{\\rm min}}^{E'_{\\rm max}}\\;{\\rm d}E'\n",
    "\\int\\;{\\rm d}E\\,\\frac{{\\rm d}f}{{\\rm d} E}\\,A_{\\rm eff}(E)\\,G(E'|E).\n",
    "$$\n",
    "\n",
    "The scaling factor between $g$ and $k$, identified with `UnitsOfG` in gLike, is therefore:\n",
    "\n",
    "$$ k = \\frac{g}{\n",
    "T_{\\rm obs}\\,\\int_{E'_{\\rm min}}^{E'_{\\rm max}}\\;{\\rm d}E'\n",
    "\\int\\;{\\rm d}E\\,\\frac{{\\rm d}f}{{\\rm d} E}\\,A_{\\rm eff}(E)\\,G(E'|E)\n",
    "},\n",
    "$$\n",
    "\n",
    "we consider the following simplifications:\n",
    "- constant effective area with energy;\n",
    "- perfect energy resolution;    \n",
    "\n",
    "the `UnitsOfG` reduce to\n",
    "$$\\frac{1}{\n",
    "T_{\\rm obs}\\,\\int_{E_{\\rm min}}^{E_{\\rm max}}\\;{\\rm d}E\\,\\frac{{\\rm d}f}{{\\rm d} E}\\,A_{\\rm eff} \n",
    "} =\n",
    "\\frac{1}{T_{\\rm obs}\\,E_0^2 \\left(\\frac{1}{E_{\\rm min}} - \\frac{1}{E_{\\rm max}}\\right)\\,A_{\\rm eff}}.\n",
    "$$\n",
    "We will use `astropy`'s `units` to handle the units simplification"
   ]
  },
  {
   "cell_type": "code",
   "execution_count": 10,
   "metadata": {},
   "outputs": [],
   "source": [
    "import numpy as np\n",
    "import astropy.units as u"
   ]
  },
  {
   "cell_type": "code",
   "execution_count": 11,
   "metadata": {},
   "outputs": [],
   "source": [
    "E_0 = 100 * u.GeV\n",
    "E_min = np.asarray([100, 200]) * u.GeV\n",
    "E_max = np.asarray([1e4, 1e4]) * u.GeV\n",
    "t_obs = np.asarray([2, 1.8]) * u.h\n",
    "A_eff = np.asarray([1, 0.89]) * 1e9 * u.Unit(\"cm2\")\n",
    "integral_df_de = np.power(E_0, 2) * (1 / E_min - 1 / E_max) \n",
    "units_of_g = (1 / (integral_df_de * A_eff * t_obs)).to(\"GeV-1 cm-2 s-1\")"
   ]
  },
  {
   "cell_type": "code",
   "execution_count": 12,
   "metadata": {},
   "outputs": [
    {
     "data": {
      "text/latex": [
       "$[1.4029181 \\times 10^{-15},~3.5386606 \\times 10^{-15}] \\; \\mathrm{\\frac{1}{GeV\\,s\\,cm^{2}}}$"
      ],
      "text/plain": [
       "<Quantity [1.40291807e-15, 3.53866057e-15] 1 / (cm2 GeV s)>"
      ]
     },
     "execution_count": 12,
     "metadata": {},
     "output_type": "execute_result"
    }
   ],
   "source": [
    "units_of_g"
   ]
  },
  {
   "cell_type": "markdown",
   "metadata": {},
   "source": [
    "set these units in each PoissonLkl objects"
   ]
  },
  {
   "cell_type": "code",
   "execution_count": 13,
   "metadata": {},
   "outputs": [],
   "source": [
    "for p, unit_of_g in zip(p_list, units_of_g.value):\n",
    "    p.SetUnitsOfG(unit_of_g)"
   ]
  },
  {
   "cell_type": "code",
   "execution_count": 14,
   "metadata": {},
   "outputs": [
    {
     "data": {
      "text/plain": [
       "32.63254709651176"
      ]
     },
     "execution_count": 14,
     "metadata": {},
     "output_type": "execute_result"
    },
    {
     "name": "stdout",
     "output_type": "stream",
     "text": [
      "Lkl::ComputeLklVsG (JointLkl) Message: Finding minimum of -2logL... \n",
      "Lkl::MinimizeLkl (JointLkl) Message: minimizing -2logL\n",
      "Lkl::CallMinimization (JointLkl) Results: Trial #1, g: 1.01e+01 +/- 2.83e+01 (1.41e-14 +/- 3.97e-14); -2logL = 32.6325; iflag = 0 (converged)\n",
      "JointLkl::PrepareForLklScan (JointLkl) Message: call ComputeLklVsG for 2 samples:\n",
      "Lkl::ComputeLklVsG (PoissonLkl_0) Message: computing -2logL in 200 points between g=-29.9873(-4.20697e-14), and g=50.1262(7.0323e-14), this could take a while\n",
      ".................... Completed 200 points\n",
      "Lkl::ComputeLklVsG (PoissonLkl_1) Message: computing -2logL in 200 points between g=-11.8886(-4.20697e-14), and g=19.8728(7.0323e-14), this could take a while\n",
      ".................... Completed 200 points\n",
      "Lkl::ComputeLklVsG (JointLkl) Message: computing -2logL in 200 points between g=-29.9873(-4.20697e-14), and g=50.1262(7.0323e-14), this could take a while\n",
      ".................... Completed 200 points\n",
      "Lkl::ComputeLklVsG (JointLkl) Message: g_min = 9.86817 +/- 28.5045 (1.38442e-14 +/- 3.99895e-14), -2logLmin = 32.6325\n"
     ]
    }
   ],
   "source": [
    "j.ComputeLklVsG()"
   ]
  },
  {
   "cell_type": "code",
   "execution_count": 15,
   "metadata": {},
   "outputs": [
    {
     "name": "stdout",
     "output_type": "stream",
     "text": [
      " *  Name              = JointLkl\n",
      " *  Status            = 0 (converged)\n",
      " *  Delta(2logL)      = 4\n",
      " *  # of parameters   = 1 (1 free):\n",
      " *                  g = 9.86817 +/- 28.5045 (1.38442e-14 +/- 3.99895e-14)\n",
      " *  Units of G        = 1.40292e-15\n",
      " *  -2logL_min        = 32.6325\n",
      " *  # of samples      = 2\n",
      " ****************************************\n",
      "                                        *  Name              = PoissonLkl_0\n",
      "                                        *  Status            = 0 (converged)\n",
      "                                        *  Delta(2logL)      = 4\n",
      "                                        *  # of parameters   = 4 (1 free):\n",
      "                                        *                  g = 9.86817 (1.38442e-14) (fixed)\n",
      "                                        *                  b = 112.247 +/- 0.10247\n",
      "                                        *                tau = 1 (fixed)\n",
      "                                        *                eff = 1 (fixed)\n",
      "                                        *  Units of G        = 1.40292e-15\n",
      "                                        *  -2logL_min        = 14.1769\n",
      "                                        ****************************************\n",
      "                                        *  Name              = PoissonLkl_1\n",
      "                                        *  Status            = 0 (converged)\n",
      "                                        *  Delta(2logL)      = 4\n",
      "                                        *  # of parameters   = 4 (1 free):\n",
      "                                        *                  g = 3.91228 (1.38442e-14) (fixed)\n",
      "                                        *                  b = 103.358 +/- 0.109545\n",
      "                                        *                tau = 1 (fixed)\n",
      "                                        *                eff = 1 (fixed)\n",
      "                                        *  Units of G        = 3.53866e-15\n",
      "                                        *  -2logL_min        = 18.4556\n",
      "                                        ****************************************\n"
     ]
    }
   ],
   "source": [
    "j.PrintOverview()"
   ]
  },
  {
   "cell_type": "code",
   "execution_count": 16,
   "metadata": {},
   "outputs": [
    {
     "name": "stdout",
     "output_type": "stream",
     "text": [
      "Lkl::ComputeLklVsG (PoissonLkl_0) Message: Finding minimum of -2logL... \n",
      "Lkl::MinimizeLkl (PoissonLkl_0) Message: minimizing -2logL\n",
      "Lkl::CallMinimization (PoissonLkl_0) Results: Trial #1, g: 2.50e+01 +/- 3.06e+01 (3.51e-14 +/- 4.30e-14); b: 1.05e+02 +/- 2.05e+01; tau: 1.00e+00 +/- 0.00e+00; eff: 1.00e+00 +/- 0.00e+00; -2logL = 13.2001; iflag = 0 (converged)\n",
      "Lkl::ComputeLklVsG (PoissonLkl_0) Message: computing -2logL in 200 points between g=-18.3264(-2.57104e-14), and g=68.3534(9.58942e-14), this could take a while\n",
      ".................... Completed 200 points\n",
      "Lkl::ComputeLklVsG (PoissonLkl_0) Message: g_min = 24.7957 +/- 31.1316 (3.47863e-14 +/- 4.36752e-14), -2logLmin = 13.2003\n",
      " *  Name              = PoissonLkl_0\n",
      " *  Status            = 0 (converged)\n",
      " *  Delta(2logL)      = 4\n",
      " *  # of parameters   = 4 (2 free):\n",
      " *                  g = 24.7957 +/- 31.1316 (3.47863e-14 +/- 4.36752e-14)\n",
      " *                  b = 105.091 +/- 0.10247\n",
      " *                tau = 1 (fixed)\n",
      " *                eff = 1 (fixed)\n",
      " *  Units of G        = 1.40292e-15\n",
      " *  -2logL_min        = 13.2003\n",
      "Lkl::ComputeLklVsG (PoissonLkl_1) Message: Finding minimum of -2logL... \n",
      "Lkl::MinimizeLkl (PoissonLkl_1) Message: minimizing -2logL\n",
      "Lkl::CallMinimization (PoissonLkl_1) Results: Trial #1, g: -3.00e+01 +/- 2.90e+01 (-1.06e-13 +/- 1.02e-13); b: 1.20e+02 +/- 2.19e+01; tau: 1.00e+00 +/- 0.00e+00; eff: 1.00e+00 +/- 0.00e+00; -2logL = 12.9663; iflag = 0 (converged)\n",
      "Lkl::ComputeLklVsG (PoissonLkl_1) Message: computing -2logL in 200 points between g=-70.9223(-2.5097e-13), and g=11(3.89251e-14), this could take a while\n",
      ".................... Completed 200 points\n",
      "Lkl::ComputeLklVsG (PoissonLkl_1) Message: g_min = -30.167 +/- 29.0967 (-1.06751e-13 +/- 1.02963e-13), -2logLmin = 12.9664\n",
      " *  Name              = PoissonLkl_1\n",
      " *  Status            = 0 (converged)\n",
      " *  Delta(2logL)      = 4\n",
      " *  # of parameters   = 4 (2 free):\n",
      " *                  g = -30.167 +/- 29.0967 (-1.06751e-13 +/- 1.02963e-13)\n",
      " *                  b = 120.095 +/- 0.109545\n",
      " *                tau = 1 (fixed)\n",
      " *                eff = 1 (fixed)\n",
      " *  Units of G        = 3.53866e-15\n",
      " *  -2logL_min        = 12.9664\n"
     ]
    },
    {
     "name": "stderr",
     "output_type": "stream",
     "text": [
      "Warning in <TCanvas::Constructor>: Deleting canvas with same name: canvas\n"
     ]
    },
    {
     "data": {
      "image/png": "[encoded data removed]",
      "text/plain": [
       "<IPython.core.display.Image object>"
      ]
     },
     "metadata": {},
     "output_type": "display_data"
    }
   ],
   "source": [
    "# plot the results with units\n",
    "# plot the joint profiled likelihood with ROOT\n",
    "from ROOT import TCanvas, TLegend\n",
    "c = TCanvas(\"canvas\", \"canvas\", 500, 400)\n",
    "legend = TLegend(0.7, 0.7, 0.9, 0.9)\n",
    "legend.SetTextSize(0.03)\n",
    "lkl_vs_g = j.GetLklVsG() # TGraph holding the profile\n",
    "lkl_vs_g.SetTitle(\"\")\n",
    "lkl_vs_g.SetLineWidth(2)\n",
    "lkl_vs_g.GetXaxis().SetTitle(\"k / (GeV^{-1} cm^{-2} s^{-1})\")\n",
    "lkl_vs_g.GetYaxis().SetTitle(\"-2 log L\")\n",
    "legend.AddEntry(lkl_vs_g, \"JointLkl\")\n",
    "lkl_vs_g.Draw()\n",
    "legend.Draw(\"same\")\n",
    "# plot the individual likelihood profiles\n",
    "for index, p in enumerate(p_list):\n",
    "    p.SetErrorDef(error_def)      \n",
    "    p.ComputeLklVsG()\n",
    "    p.PrintOverview()\n",
    "    lkl_vs_g = p.GetLklVsG()\n",
    "    lkl_vs_g.SetLineColor(index + 2)\n",
    "    lkl_vs_g.SetLineWidth(2)\n",
    "    legend.AddEntry(lkl_vs_g, p.GetName())\n",
    "    lkl_vs_g.Draw(\"same\")\n",
    "legend.Draw(\"same\")\n",
    "c.Draw()\n",
    "c.Draw() # in pyroot also the canvas has to be drawn"
   ]
  }
 ],
 "metadata": {
  "kernelspec": {
   "display_name": "Python 3",
   "language": "python",
   "name": "python3"
  },
  "language_info": {
   "codemirror_mode": {
    "name": "ipython",
    "version": 3
   },
   "file_extension": ".py",
   "mimetype": "text/x-python",
   "name": "python",
   "nbconvert_exporter": "python",
   "pygments_lexer": "ipython3",
   "version": "3.7.4"
  }
 },
 "nbformat": 4,
 "nbformat_minor": 2
}
